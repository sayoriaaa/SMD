{
 "cells": [
  {
   "cell_type": "markdown",
   "metadata": {},
   "source": [
    "# Cube\n",
    "\n",
    "$\\sigma=0.1l_e$"
   ]
  },
  {
   "cell_type": "code",
   "execution_count": null,
   "metadata": {},
   "outputs": [],
   "source": [
    "import os\n",
    "import copy\n",
    "from scripts.visualize import *\n",
    "\n",
    "proj_name = 'cube1'\n",
    "r = SampleUnion(proj_name)\n",
    "\n",
    "canvas = [[\"noise\", \"BF\", \"BNF\", \"BGF\"],\n",
    "          [\"vert\", \"edge\", \"area\", \"area_rf\"]] # must be nxm\n",
    "\n",
    "vis_type = quick_gen_vis_type(canvas, 1)\n",
    "show_metrics = quick_gen_vis_type(canvas, 1)\n",
    "# print(vis_type)\n",
    "\n",
    "# exp is used for my thesis\n",
    "r.show(canvas, fig_name='exp/{}.png'.format(proj_name), \n",
    "       mesh_vis_type=vis_type, \n",
    "       show_metrics=show_metrics,\n",
    "       titles=canvas)"
   ]
  },
  {
   "cell_type": "markdown",
   "metadata": {},
   "source": [
    "$\\sigma=0.5l_e$"
   ]
  },
  {
   "cell_type": "code",
   "execution_count": null,
   "metadata": {},
   "outputs": [],
   "source": [
    "import os\n",
    "import copy\n",
    "from scripts.visualize import *\n",
    "\n",
    "proj_name = 'cube5'\n",
    "r = SampleUnion(proj_name)\n",
    "\n",
    "canvas = [[\"noise\", \"BF\", \"BNF\", \"BGF\"],\n",
    "          [\"vert\", \"edge\", \"area\", \"area_rf\"]] # must be nxm\n",
    "\n",
    "vis_type = quick_gen_vis_type(canvas, 1)\n",
    "show_metrics = quick_gen_vis_type(canvas, 1)\n",
    "# print(vis_type)\n",
    "\n",
    "r.show(canvas, fig_name='exp/{}.png'.format(proj_name), \n",
    "       mesh_vis_type=vis_type, \n",
    "       show_metrics=show_metrics,\n",
    "       titles=canvas)"
   ]
  },
  {
   "cell_type": "markdown",
   "metadata": {},
   "source": [
    "$\\sigma=0.9l_e$"
   ]
  },
  {
   "cell_type": "code",
   "execution_count": null,
   "metadata": {},
   "outputs": [],
   "source": [
    "import os\n",
    "import copy\n",
    "from scripts.visualize import *\n",
    "\n",
    "proj_name = 'cube9'\n",
    "r = SampleUnion(proj_name)\n",
    "\n",
    "canvas = [[\"noise\", \"BF\", \"BNF\", \"BGF\"],\n",
    "          [\"vert\", \"edge\", \"area\", \"area_rf\"]] # must be nxm\n",
    "\n",
    "vis_type = quick_gen_vis_type(canvas, 1)\n",
    "show_metrics = quick_gen_vis_type(canvas, 1)\n",
    "# print(vis_type)\n",
    "\n",
    "r.show(canvas, fig_name='exp/{}.png'.format(proj_name), \n",
    "       mesh_vis_type=vis_type, \n",
    "       show_metrics=show_metrics,\n",
    "       titles=canvas)"
   ]
  },
  {
   "cell_type": "markdown",
   "metadata": {},
   "source": [
    "# Selected Figures\n",
    "\n",
    "## Synthetic"
   ]
  },
  {
   "cell_type": "code",
   "execution_count": null,
   "metadata": {},
   "outputs": [],
   "source": [
    "import os\n",
    "import copy\n",
    "from scripts.visualize import *\n",
    "\n",
    "proj_name = 'selected'\n",
    "r = SampleUnion(proj_name)\n",
    "\"\"\"\n",
    "for j in r.results:\n",
    "    print(j)\n",
    "\"\"\"\n",
    "\n",
    "canvas = [[\"part_Lp\", \"trim-star\", \"fandisk\", \"octa-flower\", \"block\"] for i in range(3)] # must be nxm\n",
    "\n",
    "vis_type = quick_gen_vis_type(canvas, [[-2], [0], [1]])\n",
    "show_metrics = quick_gen_vis_type(canvas, [[0], [0], [1]])\n",
    "# print(vis_type)\n",
    "\n",
    "r.show(canvas, fig_name='exp/{}-syn1.png'.format(proj_name), \n",
    "       mesh_vis_type=vis_type, show_metrics=show_metrics)"
   ]
  },
  {
   "cell_type": "code",
   "execution_count": null,
   "metadata": {},
   "outputs": [],
   "source": [
    "canvas = [[\"fertility\", \"joint\", \"bunny\", \"chinese_lion\", \"dragon\"] for i in range(3)] # must be nxm\n",
    "\n",
    "vis_type = quick_gen_vis_type(canvas, [[-2], [0], [1]])\n",
    "show_metrics = quick_gen_vis_type(canvas, [[0], [0], [1]])\n",
    "# print(vis_type)\n",
    "\n",
    "r.show(canvas, fig_name='exp/{}-syn2.png'.format(proj_name), \n",
    "       mesh_vis_type=vis_type, show_metrics=show_metrics)"
   ]
  },
  {
   "cell_type": "markdown",
   "metadata": {},
   "source": [
    "## Kinect v1"
   ]
  },
  {
   "cell_type": "code",
   "execution_count": null,
   "metadata": {},
   "outputs": [],
   "source": [
    "canvas = [[\"big_girl_01\", \"cone_01\", \"david_01\", \"pyramid_01\", \"boy_01\"] for i in range(3)] # must be nxm\n",
    "\n",
    "vis_type = quick_gen_vis_type(canvas, [[-2], [0], [1]])\n",
    "show_metrics = quick_gen_vis_type(canvas, [[0], [0], [1]])\n",
    "\n",
    "r.show(canvas, fig_name='exp/{}-kv1.png'.format(proj_name), \n",
    "       mesh_vis_type=vis_type, show_metrics=show_metrics, camera_position='xy')"
   ]
  },
  {
   "cell_type": "markdown",
   "metadata": {},
   "source": [
    "## Kinect v2"
   ]
  },
  {
   "cell_type": "code",
   "execution_count": null,
   "metadata": {},
   "outputs": [],
   "source": [
    "canvas = [[\"big_girl_03\", \"cone_03\", \"david_03\", \"pyramid_03\", \"boy_03\"] for i in range(3)] # must be nxm\n",
    "\n",
    "vis_type = quick_gen_vis_type(canvas, [[-2], [0], [1]])\n",
    "show_metrics = quick_gen_vis_type(canvas, [[0], [0], [1]])\n",
    "# print(vis_type)\n",
    "\n",
    "r.show(canvas, fig_name='exp/{}-kv2.png'.format(proj_name), \n",
    "       mesh_vis_type=vis_type, show_metrics=show_metrics, camera_position='xy')"
   ]
  },
  {
   "cell_type": "markdown",
   "metadata": {},
   "source": [
    "## Kinect Fusion"
   ]
  },
  {
   "cell_type": "code",
   "execution_count": null,
   "metadata": {},
   "outputs": [],
   "source": [
    "canvas = [[\"big_girl\", \"cone\", \"girl\", \"boy02\", \"david\"] for i in range(3)] # must be nxm\n",
    "\n",
    "vis_type = quick_gen_vis_type(canvas, [[-2], [0], [1]])\n",
    "show_metrics = quick_gen_vis_type(canvas, [[0], [0], [1]])\n",
    "# print(vis_type)\n",
    "\n",
    "r.show(canvas, fig_name='exp/{}-kf.png'.format(proj_name), \n",
    "       mesh_vis_type=vis_type, show_metrics=show_metrics, camera_position='xy')"
   ]
  },
  {
   "cell_type": "markdown",
   "metadata": {},
   "source": [
    "# 非规整网格"
   ]
  },
  {
   "cell_type": "code",
   "execution_count": null,
   "metadata": {},
   "outputs": [],
   "source": [
    "import os\n",
    "import copy\n",
    "from scripts.visualize import *\n",
    "\n",
    "proj_name = 'ir1'\n",
    "r = SampleUnion(proj_name)\n",
    "\n",
    "\n",
    "canvas = [[\"40359\", \"40359edge\", \"40359area\", \"40359area_r\"],\n",
    "             [\"40447\", \"40447edge\", \"40447area\", \"40447area_r\"],\n",
    "             [\"40843\", \"40843edge\", \"40843area\", \"40843area_r\"],\n",
    "             [\"43960\", \"43960edge\", \"43960area\", \"43960area_r\"]] # must be nxm\n",
    "\n",
    "vis_type = quick_gen_vis_type(canvas, 0)\n",
    "show_metrics = quick_gen_vis_type(canvas, 1)\n",
    "\n",
    "r.show(canvas, fig_name='exp/{}.png'.format(proj_name), mesh_vis_type=vis_type, show_metrics=show_metrics)\n"
   ]
  },
  {
   "cell_type": "markdown",
   "metadata": {},
   "source": [
    "# Robust\n",
    "\n",
    "通过以下脚本简单制作`test_robust.bat`中的加权参数（如果需要修改的话运行）\n",
    "\n",
    "为了美观，考虑使用以下配色 https://zhuanlan.zhihu.com/p/601170660 \n"
   ]
  },
  {
   "cell_type": "code",
   "execution_count": null,
   "metadata": {},
   "outputs": [],
   "source": [
    "\"\"\"\n",
    "for i in range(1,41):\n",
    "    print('set m{}={:.1f}'.format(i,i*0.1))\n",
    "\"\"\"\n",
    "\n",
    "color1 = (20/255,54/255,95/255) \n",
    "color2 = (214/255,79/255,56/255)\n",
    "\n",
    "color3 = (118/255,162/255,185/255)\n",
    "color4 = (191/255,217/255,229/255)\n",
    "color5 = (248/255,242/255,236/255)"
   ]
  },
  {
   "cell_type": "markdown",
   "metadata": {},
   "source": [
    "## Block ($\\sigma=0.2l_e$)\n",
    "\n",
    "对CAD模型的测试（一般来说CAD模型的超参数和非CAD模型的超参数不一致）"
   ]
  },
  {
   "cell_type": "code",
   "execution_count": null,
   "metadata": {},
   "outputs": [],
   "source": [
    "import matplotlib.pyplot as plt\n",
    "import numpy as np\n",
    "from mpl_toolkits.axes_grid1.inset_locator import mark_inset\n",
    "from mpl_toolkits.axes_grid1.inset_locator import inset_axes\n",
    "from scripts.visualize import *\n",
    "\n",
    "def gen_robust_figure(proj_name, xlim=(0.6, 1.5), ylim=(2.55, 2.75),\n",
    "                      loc=(0.2, 0.4, 0.4, 0.4),\n",
    "                      bbox_color = (191/255,217/255,229/255)):\n",
    "    r = SampleUnion(proj_name)\n",
    "    AADs = []\n",
    "    AHDs = []\n",
    "    for k in r.results:\n",
    "        AADs.append(r.results[k].AAD)\n",
    "        AHDs.append(r.results[k].AHD*1000)\n",
    "    \n",
    "\n",
    "    # visual settings\n",
    "    font = {'family' : 'Times New Roman',\n",
    "            'size'   : 12}\n",
    "    plt.rc('font', **font)\n",
    "\n",
    "    # ---------------------------------------------------------------------------------\n",
    "    # https://matplotlib.org/stable/gallery/subplots_axes_and_figures/two_scales.html #\n",
    "    # ---------------------------------------------------------------------------------\n",
    "\n",
    "    # Create some mock data\n",
    "    t = np.array([0.1*i for i in range(1, len(AADs)+1)])\n",
    "    data1 = np.array(AADs)\n",
    "    data1_ = 'Average Angular Distance'\n",
    "    data2 = np.array(AHDs)\n",
    "    data2_ = 'Average Hausdorff Distance (10-3)'\n",
    "\n",
    "    fig, ax1 = plt.subplots()\n",
    "\n",
    "    color1 = (20/255,54/255,95/255)\n",
    "    ax1.set_xlabel(\"multiplicator\", fontsize=12)\n",
    "    ax1.set_ylabel(data1_, color=color1)\n",
    "    ax1.plot(t, data1, color=color1)\n",
    "    ax1.tick_params(axis='y', labelcolor='black')\n",
    "\n",
    "    ax2 = ax1.twinx()  # instantiate a second axes that shares the same x-axis\n",
    "\n",
    "    color2 = (214/255,79/255,56/255)\n",
    "    ax2.set_ylabel(data2_, color=color2)  # we already handled the x-label with ax1\n",
    "    ax2.plot(t, data2, color=color2)\n",
    "    ax2.tick_params(axis='y', labelcolor='black')\n",
    "\n",
    "    fig.tight_layout()  # otherwise the right y-label is slightly clipped\n",
    "\n",
    "    #-----------------------------------------\n",
    "    # https://zhuanlan.zhihu.com/p/136574534 #\n",
    "    #-----------------------------------------\n",
    "\n",
    "    axins = ax1.inset_axes(loc)\n",
    "    axins.plot(t, data1, color=color1)\n",
    "\n",
    "\n",
    "    # 调整子坐标系的显示范围\n",
    "    axins.set_xlim(xlim[0], xlim[1])\n",
    "    axins.set_ylim(ylim[0], ylim[1])\n",
    "\n",
    "    mark_inset(ax1, axins, loc1=3, loc2=4, fc=\"none\", ec=bbox_color, lw=1)\n",
    "    plt.savefig('exp/{}.png'.format(proj_name), dpi=300, bbox_inches='tight')\n",
    "    plt.show()\n",
    "\n",
    "gen_robust_figure('robust_block')\n"
   ]
  },
  {
   "cell_type": "markdown",
   "metadata": {},
   "source": [
    "## nicolo"
   ]
  },
  {
   "cell_type": "code",
   "execution_count": null,
   "metadata": {},
   "outputs": [],
   "source": [
    "gen_robust_figure('robust_nicolo', xlim=(0.3,0.9), ylim=(6.4,7), \n",
    "                  loc=(0.5, 0.2, 0.4, 0.3))"
   ]
  },
  {
   "cell_type": "markdown",
   "metadata": {},
   "source": [
    "## 不同编译选项对速度的影响\n",
    "\n",
    "绮良良的颜色"
   ]
  },
  {
   "cell_type": "code",
   "execution_count": null,
   "metadata": {},
   "outputs": [],
   "source": [
    "import seaborn as sns\n",
    "import matplotlib.pyplot as plt\n",
    "import numpy as np\n",
    "import pandas as pd\n",
    "\n",
    "c1 = (53,93,115)\n",
    "c2 = (141,192,200)\n",
    "c3 = (213,199,172)\n",
    "c4 = (234,199,114)\n",
    "c5 = (105,169, 78)\n",
    "\n",
    "def gen_c(colors):\n",
    "    ret = []\n",
    "    for color in colors:\n",
    "        c = (color[0]/255, color[1]/255, color[2]/255)\n",
    "        ret.append(c)\n",
    "    return ret\n",
    "\n",
    "cc = gen_c([c1,c2,c3,c4,c5])         \n",
    "\n",
    "data = {'O0':[22568.2,    23011.9,  23018.7,  23122.7, 22870.3], \n",
    "        'O1':[3045.54,    3071.12,  3031.58,  3098.17, 3022.1],\n",
    "        'O2':[3011.35,    3040.07,  2953.53,  3125.52, 2953.05],\n",
    "        'O3':[2950.83,    3026.71,  2925.76,  3163.12, 2940.22],\n",
    "        'Ofast':[2957.44, 2996.12,  3023.72,  3063.46, 2949.75]}\n",
    "df = pd.DataFrame(data)\n",
    "\n",
    "font = {'family' : 'Times New Roman',\n",
    "        'size'   : 12}\n",
    "\n",
    "\n",
    "plt.rc('font', **font)\n",
    "\n",
    "ax = sns.barplot(df,estimator=\"mean\",errorbar=None, palette=cc)\n",
    "\n",
    "for p in ax.patches:\n",
    "    ax.annotate(' {:.1f}'.format(p.get_height()), (p.get_x()+0.1, p.get_height()+100), color='black', size=10)\n",
    "plt.ylabel(\"Time (ms)\", fontsize=12)\n",
    "plt.savefig('exp/compiler_opt1.png', dpi=300, bbox_inches='tight')\n",
    "plt.show()"
   ]
  },
  {
   "cell_type": "code",
   "execution_count": null,
   "metadata": {},
   "outputs": [],
   "source": [
    "import seaborn as sns\n",
    "import matplotlib.pyplot as plt\n",
    "import numpy as np\n",
    "import pandas as pd\n",
    "\n",
    "c1 = (53,93,115)\n",
    "c2 = (141,192,200)\n",
    "c3 = (213,199,172)\n",
    "c4 = (234,199,114)\n",
    "c5 = (105,169, 78)\n",
    "\n",
    "def gen_c(colors):\n",
    "    ret = []\n",
    "    for color in colors:\n",
    "        c = (color[0]/255, color[1]/255, color[2]/255)\n",
    "        ret.append(c)\n",
    "    return ret\n",
    "\n",
    "cc = gen_c([c1,c2,c3,c4,c5])         \n",
    "\n",
    "data = {'O0':[8606], \n",
    "        'O1':[964],\n",
    "        'O2':[892],\n",
    "        'O3':[915],\n",
    "        'Ofast':[916]}\n",
    "df = pd.DataFrame(data)\n",
    "\n",
    "font = {'family' : 'Times New Roman',\n",
    "        'size'   : 12}\n",
    "\n",
    "\n",
    "plt.rc('font', **font)\n",
    "\n",
    "ax = sns.barplot(df,estimator=\"mean\",errorbar=None, palette=cc)\n",
    "\n",
    "for p in ax.patches:\n",
    "    ax.annotate(' {:.0f}'.format(int(p.get_height())), (p.get_x()+0.1, p.get_height()+100), color='black', size=10)\n",
    "plt.ylabel(\"Memory (KB)\", fontsize=12)\n",
    "plt.savefig('./exp/compiler_opt_m.png', dpi=300, bbox_inches='tight')\n",
    "plt.show()"
   ]
  },
  {
   "cell_type": "code",
   "execution_count": null,
   "metadata": {},
   "outputs": [],
   "source": [
    "import seaborn as sns\n",
    "import matplotlib.pyplot as plt\n",
    "import numpy as np\n",
    "import pandas as pd\n",
    "\n",
    "c1 = (53,93,115)\n",
    "c2 = (141,192,200)\n",
    "c3 = (213,199,172)\n",
    "c4 = (234,199,114)\n",
    "c5 = (105,169, 78)\n",
    "\n",
    "def gen_c(colors):\n",
    "    ret = []\n",
    "    for color in colors:\n",
    "        c = (color[0]/255, color[1]/255, color[2]/255)\n",
    "        ret.append(c)\n",
    "    return ret\n",
    "\n",
    "cc = gen_c([c2,c3,c4,c5])   \n",
    "\n",
    "data = {#'O0':[22568.2,    23011.9,  23018.7,  23122.7, 22870.3], \n",
    "        'O1':[3045.54,    3071.12,  3031.58,  3098.17, 3022.1],\n",
    "        'O2':[3011.35,    3040.07,  2953.53,  3125.52, 2953.05],\n",
    "        'O3':[2950.83,    3026.71,  2925.76,  3163.12, 2940.22],\n",
    "        'Ofast':[2957.44, 2996.12,  3023.72,  3063.46, 2949.75]}\n",
    "df = pd.DataFrame(data)\n",
    "\n",
    "font = {'family' : 'Times New Roman',\n",
    "        'size'   : 12}\n",
    "\n",
    "\n",
    "plt.rc('font', **font)\n",
    "\n",
    "plt.ylim(2800, 3150)\n",
    "plt.ylabel(\"Time (ms)\", fontsize=12)\n",
    "sns.barplot(df, errorbar=\"sd\", capsize=0.2, palette=cc)\n",
    "plt.savefig('exp/compiler_opt2.png', dpi=300, bbox_inches='tight')\n",
    "plt.show()\n"
   ]
  },
  {
   "cell_type": "code",
   "execution_count": null,
   "metadata": {},
   "outputs": [],
   "source": [
    "import seaborn as sns\n",
    "import matplotlib.pyplot as plt\n",
    "import numpy as np\n",
    "import pandas as pd\n",
    "\n",
    "c1 = (53,93,115)\n",
    "c2 = (141,192,200)\n",
    "c3 = (213,199,172)\n",
    "c4 = (234,199,114)\n",
    "c5 = (105,169, 78)\n",
    "\n",
    "def gen_c(colors):\n",
    "    ret = []\n",
    "    for color in colors:\n",
    "        c = (color[0]/255, color[1]/255, color[2]/255)\n",
    "        ret.append(c)\n",
    "    return ret\n",
    "\n",
    "cc = gen_c([c2,c3,c4])   \n",
    "\n",
    "data = {'mavx mfma':[3005.19,    2980.16,  2984.61, 3000.06, 2980.52], \n",
    "        'openmp':[2947,    2914.32,  2939.02,  2917.64, 2934.83],\n",
    "        'mavx mfma + openmp':[2943.69,    2940.34,  2950.99, 2993.23, 2960]}\n",
    "df = pd.DataFrame(data)\n",
    "\n",
    "font = {'family' : 'Times New Roman',\n",
    "        'size'   : 12}\n",
    "\n",
    "\n",
    "plt.rc('font', **font)\n",
    "\n",
    "plt.ylim(2900, 3020)\n",
    "plt.ylabel(\"Time (ms)\", fontsize=12)\n",
    "sns.barplot(df, errorbar=\"sd\", capsize=0.2, palette=cc)\n",
    "plt.savefig('exp/compiler_opt_openmp.png', dpi=300, bbox_inches='tight')\n",
    "plt.show()"
   ]
  },
  {
   "cell_type": "markdown",
   "metadata": {},
   "source": [
    "# 非规整网格-可视化"
   ]
  },
  {
   "cell_type": "code",
   "execution_count": null,
   "metadata": {},
   "outputs": [],
   "source": [
    "\n"
   ]
  }
 ],
 "metadata": {
  "kernelspec": {
   "display_name": "mesh",
   "language": "python",
   "name": "python3"
  },
  "language_info": {
   "codemirror_mode": {
    "name": "ipython",
    "version": 3
   },
   "file_extension": ".py",
   "mimetype": "text/x-python",
   "name": "python",
   "nbconvert_exporter": "python",
   "pygments_lexer": "ipython3",
   "version": "3.8.18"
  }
 },
 "nbformat": 4,
 "nbformat_minor": 2
}
